{
 "cells": [
  {
   "cell_type": "code",
   "execution_count": null,
   "metadata": {
    "collapsed": false
   },
   "outputs": [],
   "source": [
    "import urllib.request\n",
    "from bs4 import BeautifulSoup\n",
    " \n",
    "# Create/open a file called wunder.txt (which will be a comma-delimited file)\n",
    "f = open('temp2014.txt', 'w')\n",
    " \n",
    "# Iterate through year, month, and day\n",
    "for y in range(2014, 2015):\n",
    "  for m in range(1, 13):\n",
    "    for d in range(1, 32):\n",
    " \n",
    "      # Check if leap year\n",
    "      if y%400 == 0:\n",
    "        leap = True\n",
    "      elif y%100 == 0:\n",
    "        leap = False\n",
    "      elif y%4 == 0:\n",
    "        leap = True\n",
    "      else:\n",
    "        leap = False\n",
    " \n",
    "      # Check if already gone through month\n",
    "      if (m == 2 and leap and d > 29):\n",
    "        continue\n",
    "      elif (m == 2 and d > 28):\n",
    "        continue\n",
    "      elif (m in [4, 6, 9, 10] and d > 30):\n",
    "        continue\n",
    " \n",
    "      # Open wunderground.com url\n",
    "      url = \"http://www.wunderground.com/history/airport/SBVT/\"+str(y)+ \"/\" + str(m) + \"/\" + str(d) + \"/DailyHistory.html\"\n",
    "      page = urllib.request.urlopen(url)\n",
    " \n",
    "      # Get temperaturem precip, visibility from page\n",
    "      soup = BeautifulSoup(page, \"lxml\")\n",
    "      dayTemp = soup.find(\"span\", text=\"Precipitation\").parent.find_next_sibling(\"td\").get_text(strip=True)\n",
    "      precip = soup.find(\"span\", text=\"Precipitation\").parent.find_next_sibling(\"td\").get_text(strip=True)\n",
    "      vis = soup.find(\"span\", text=\"Visibility\").parent.find_next_sibling(\"td\").get_text(strip=True)\n",
    "        \n",
    "      # Format month for timestamp\n",
    "      if len(str(m)) < 2:\n",
    "        mStamp = '0' + str(m)\n",
    "      else:\n",
    "        mStamp = str(m)\n",
    "\n",
    "      # Format day for timestamp\n",
    "      if len(str(d)) < 2:\n",
    "        dStamp = '0' + str(d)\n",
    "      else:\n",
    "        dStamp = str(d)\n",
    "\n",
    "      # Build timestamp\n",
    "      timestamp = '2014' + mStamp + dStamp\n",
    "\n",
    "      # Write timestamp and temperature to file\n",
    "      f.write(timestamp + ',' + dayTemp + ',' + precip + ',' + vis + '\\n')\n",
    "\n",
    "# Done getting data! Close file.\n",
    "f.close()"
   ]
  }
 ],
 "metadata": {
  "kernelspec": {
   "display_name": "Python 3",
   "language": "python",
   "name": "python3"
  },
  "language_info": {
   "codemirror_mode": {
    "name": "ipython",
    "version": 3
   },
   "file_extension": ".py",
   "mimetype": "text/x-python",
   "name": "python",
   "nbconvert_exporter": "python",
   "pygments_lexer": "ipython3",
   "version": "3.5.2"
  }
 },
 "nbformat": 4,
 "nbformat_minor": 0
}
